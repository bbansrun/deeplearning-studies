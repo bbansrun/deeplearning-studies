{
 "cells": [
  {
   "cell_type": "markdown",
   "metadata": {},
   "source": [
    "# 모두를 위한 머신러닝/딥러닝 1강\n",
    "\n",
    "#### 머신러닝 이란?\n",
    "\n",
    "explicit programming(정확한 로직의 프로그램)의 한계가 있어 나타남\n",
    "- 너무 많은 룰의 한계\n",
    "\n",
    "* 학습해서 무언가를 도출할 수 있게 만드는 프로그램\n",
    "\n",
    "\n",
    "#### Supervised/ Unsupervised learning \n",
    "지도 학습과 비지도 학습\n",
    "\n",
    "지도학습 : 기존에 주어진 데이터 라벨을 활용하여 학습하는 경우 (사람이 데이터에 라벨링을 해줌)\n",
    "ex) 이건 개야, 이건 고양이야 라벨이 붙어있는 것\n",
    "\n",
    "비지도학습 : 라벨을 달기 힘든 경우\n",
    "- 비슷한 것들을 그룹핑하는 것\n",
    "\n",
    "#### Supervised learning\n",
    "- 이미지 라벨링\n",
    "- 스펨 메일 필터\n",
    "- 성적에 관한 예측\n",
    "\n",
    "* training data set\n",
    "기존에 레이블이 동반된 데이터를 활용해 학습을 진행\n",
    "-> 학습을 시키는 데이터 셋\n",
    "\n",
    "ex) \n",
    "- 범위가 넓은 경우 (시험성적)\n",
    "-> regression\n",
    "\n",
    "- pass/non-pass\n",
    "-> classification (binary classification)\n",
    "\n",
    "- grade (A,B,C,E)\n",
    "-> multi label classification"
   ]
  },
  {
   "cell_type": "code",
   "execution_count": 11,
   "metadata": {},
   "outputs": [
    {
     "name": "stdout",
     "output_type": "stream",
     "text": [
      "[3.0, 4.0]\n",
      "7.0\n",
      "Tensor(\"Const_12:0\", shape=(), dtype=float32)\n",
      "7.5\n",
      "[3. 7.]\n"
     ]
    }
   ],
   "source": [
    "import tensorflow as tf\n",
    "\n",
    "#node 생성\n",
    "node1 = tf.constant(3.0, tf.float32)\n",
    "node2 = tf.constant(4.0)\n",
    "node3 = tf.add(node1, node2)\n",
    "\n",
    "#session 부여\n",
    "sess  = tf.Session()\n",
    "print(sess.run([node1, node2]))\n",
    "print(sess.run(node3))\n",
    "\n",
    "\n",
    "# 노드가 아닌 그래프를 먼저 만들어놓음\n",
    "a = tf.placeholder(tf.float32)\n",
    "b = tf.placeholder(tf.float32)\n",
    "adder_node = a+b\n",
    "\n",
    "# 만들어진 그래프에 값을 넘겨서 실행시킴\n",
    "print(sess.run(adder_node, feed_dict = {a:3,b:4.5}))\n",
    "print(sess.run(adder_node, feed_dict={a:[1,3], b:[2,4]}))"
   ]
  },
  {
   "cell_type": "code",
   "execution_count": null,
   "metadata": {},
   "outputs": [],
   "source": []
  }
 ],
 "metadata": {
  "kernelspec": {
   "display_name": "Python 3",
   "language": "python",
   "name": "python3"
  },
  "language_info": {
   "codemirror_mode": {
    "name": "ipython",
    "version": 3
   },
   "file_extension": ".py",
   "mimetype": "text/x-python",
   "name": "python",
   "nbconvert_exporter": "python",
   "pygments_lexer": "ipython3",
   "version": "3.6.8"
  }
 },
 "nbformat": 4,
 "nbformat_minor": 2
}
